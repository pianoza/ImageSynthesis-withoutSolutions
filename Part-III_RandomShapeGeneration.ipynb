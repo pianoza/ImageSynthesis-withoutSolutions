{
 "cells": [
  {
   "attachments": {},
   "cell_type": "markdown",
   "metadata": {},
   "source": [
    "# Random Shape Generation\n",
    "In Part-II, we have trained a GAN model to generate synthetic masses given a tiled image with patches extracted from the mass and healthy tissue around the mask. You may have noticed that in the end of Part-II we only visualised the outputs with the same data as in the training set. This is in general not a good practice. Because we only demonstrated that the generator model is able to memorise and but not generalise to other inputs. Although in other applications this would be considered a ***crime*** (sort of speak), in our project we want to synthesise masses of different shapes, hence, augmenting the training set to include more variaty of shapes.\n",
    "\n",
    "You may ask, why did we split the dataset into training, validation, and testing sets then? The answer to that is that we want to test the usefulness of the data augmentation in a downstream task of breast mass segmentation. We will follow the following experimental setup:\n",
    "\n",
    "![course_workflow](images/course_workflow.png)"
   ]
  }
 ],
 "metadata": {
  "language_info": {
   "name": "python"
  },
  "orig_nbformat": 4
 },
 "nbformat": 4,
 "nbformat_minor": 2
}
